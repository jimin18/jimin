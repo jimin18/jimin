{
  "nbformat": 4,
  "nbformat_minor": 0,
  "metadata": {
    "colab": {
      "name": "0331hw2.ipynb",
      "provenance": [],
      "collapsed_sections": [],
      "authorship_tag": "ABX9TyMGqFTjrsZl+UztftOt6hzC",
      "include_colab_link": true
    },
    "kernelspec": {
      "name": "python3",
      "display_name": "Python 3"
    }
  },
  "cells": [
    {
      "cell_type": "markdown",
      "metadata": {
        "id": "view-in-github",
        "colab_type": "text"
      },
      "source": [
        "<a href=\"https://colab.research.google.com/github/jimin18/jimin/blob/master/0331hw2.ipynb\" target=\"_parent\"><img src=\"https://colab.research.google.com/assets/colab-badge.svg\" alt=\"Open In Colab\"/></a>"
      ]
    },
    {
      "cell_type": "code",
      "metadata": {
        "id": "Q1JRoGbWHUHT",
        "colab_type": "code",
        "colab": {
          "base_uri": "https://localhost:8080/",
          "height": 68
        },
        "outputId": "1dd09eaf-c050-482c-e3e3-415ab12dcdbd"
      },
      "source": [
        "class Man:\n",
        "  def __init__(self,name):\n",
        "    self.name=name\n",
        "    print(\"Initialized!\")\n",
        "\n",
        "  def hello(self):\n",
        "    print(\"Hello \"+ self.name + \"!\")\n",
        "\n",
        "  def goodbye(self):\n",
        "    print(\"Good-bye \" + self.name + \"!\")\n",
        "\n",
        "m= Man(\"David\")\n",
        "m.hello()\n",
        "m.goodbye()"
      ],
      "execution_count": null,
      "outputs": [
        {
          "output_type": "stream",
          "text": [
            "Initialized!\n",
            "Hello David!\n",
            "Good-bye David!\n"
          ],
          "name": "stdout"
        }
      ]
    },
    {
      "cell_type": "code",
      "metadata": {
        "id": "BWEMJaxzIRzK",
        "colab_type": "code",
        "colab": {}
      },
      "source": [
        "import numpy as np"
      ],
      "execution_count": null,
      "outputs": []
    },
    {
      "cell_type": "code",
      "metadata": {
        "id": "hYJqpazdIVjm",
        "colab_type": "code",
        "colab": {
          "base_uri": "https://localhost:8080/",
          "height": 51
        },
        "outputId": "ddf9f4eb-598a-4d2b-a81b-0eb99d895e77"
      },
      "source": [
        "x= np.array([1.0, 2.0, 3.0])\n",
        "print(x)\n",
        "type(x)"
      ],
      "execution_count": null,
      "outputs": [
        {
          "output_type": "stream",
          "text": [
            "[1. 2. 3.]\n"
          ],
          "name": "stdout"
        },
        {
          "output_type": "execute_result",
          "data": {
            "text/plain": [
              "numpy.ndarray"
            ]
          },
          "metadata": {
            "tags": []
          },
          "execution_count": 5
        }
      ]
    },
    {
      "cell_type": "code",
      "metadata": {
        "id": "V3mWZx1PIjBv",
        "colab_type": "code",
        "colab": {
          "base_uri": "https://localhost:8080/",
          "height": 34
        },
        "outputId": "e1b4e152-4b52-4a3f-f53a-f919590eec90"
      },
      "source": [
        "x= np.array([1.0, 2.0,3.0])\n",
        "y= np.array([2.0, 4.0,6.0])\n",
        "x+y\n",
        "x/2.0"
      ],
      "execution_count": null,
      "outputs": [
        {
          "output_type": "execute_result",
          "data": {
            "text/plain": [
              "array([0.5, 1. , 1.5])"
            ]
          },
          "metadata": {
            "tags": []
          },
          "execution_count": 12
        }
      ]
    },
    {
      "cell_type": "code",
      "metadata": {
        "id": "3-F4Hes1JPUi",
        "colab_type": "code",
        "colab": {
          "base_uri": "https://localhost:8080/",
          "height": 119
        },
        "outputId": "08e4d6e1-337b-446d-e28a-6573e78b6cf7"
      },
      "source": [
        "A=np.array([[1,2], [3,4]])\n",
        "print(A)\n",
        "A.shape\n",
        "A.dtype\n",
        "\n",
        "B=np.array([[3,0],[0,6]])\n",
        "\n",
        "A+B\n",
        "A*B\n",
        "\n",
        "print(A)\n",
        "A*10"
      ],
      "execution_count": null,
      "outputs": [
        {
          "output_type": "stream",
          "text": [
            "[[1 2]\n",
            " [3 4]]\n",
            "[[1 2]\n",
            " [3 4]]\n"
          ],
          "name": "stdout"
        },
        {
          "output_type": "execute_result",
          "data": {
            "text/plain": [
              "array([[10, 20],\n",
              "       [30, 40]])"
            ]
          },
          "metadata": {
            "tags": []
          },
          "execution_count": 20
        }
      ]
    },
    {
      "cell_type": "code",
      "metadata": {
        "id": "n_JsfixpJiZJ",
        "colab_type": "code",
        "colab": {
          "base_uri": "https://localhost:8080/",
          "height": 51
        },
        "outputId": "54e6f41a-cb58-4840-cd2e-d481c7c560c1"
      },
      "source": [
        "A=np.array([[1,2], [3,4]])\n",
        "B=np.array([10,20])\n",
        "A*B"
      ],
      "execution_count": null,
      "outputs": [
        {
          "output_type": "execute_result",
          "data": {
            "text/plain": [
              "array([[10, 40],\n",
              "       [30, 80]])"
            ]
          },
          "metadata": {
            "tags": []
          },
          "execution_count": 21
        }
      ]
    },
    {
      "cell_type": "code",
      "metadata": {
        "id": "sBN57heaKLFQ",
        "colab_type": "code",
        "colab": {
          "base_uri": "https://localhost:8080/",
          "height": 153
        },
        "outputId": "0ad7aa31-5bfc-4431-8273-4d00f9ebd976"
      },
      "source": [
        "X=np.array([[51,55],[14,19],[0,4]])\n",
        "print(X)\n",
        "X[0]\n",
        "X[0][1]\n",
        "\n",
        "for row in X:\n",
        "  print(row)\n",
        "\n",
        "X= X.flatten()\n",
        "print(X)\n",
        "\n",
        "X[np.array([0,2,4])]\n",
        "\n",
        "X > 15\n",
        "X[X>15]"
      ],
      "execution_count": null,
      "outputs": [
        {
          "output_type": "stream",
          "text": [
            "[[51 55]\n",
            " [14 19]\n",
            " [ 0  4]]\n",
            "[51 55]\n",
            "[14 19]\n",
            "[0 4]\n",
            "[51 55 14 19  0  4]\n"
          ],
          "name": "stdout"
        },
        {
          "output_type": "execute_result",
          "data": {
            "text/plain": [
              "array([51, 55, 19])"
            ]
          },
          "metadata": {
            "tags": []
          },
          "execution_count": 35
        }
      ]
    }
  ]
}